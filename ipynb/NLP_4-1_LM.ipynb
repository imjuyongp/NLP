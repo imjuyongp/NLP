{
 "cells": [
  {
   "cell_type": "code",
   "execution_count": 1,
   "id": "19e8889f-54c6-4b65-890a-5be72260f961",
   "metadata": {},
   "outputs": [],
   "source": [
    "corpus = \"\"\"\n",
    "I love natural language processing\n",
    "I love deep learning\n",
    "I enjoy learning new things\n",
    "language models are fun\n",
    "deep learning is powerful\n",
    "\"\"\""
   ]
  },
  {
   "cell_type": "code",
   "execution_count": 2,
   "id": "bb920b1c-9efb-4c02-8614-3621e99da8db",
   "metadata": {},
   "outputs": [
    {
     "name": "stdout",
     "output_type": "stream",
     "text": [
      "['I love natural language processing', 'I love deep learning', 'I enjoy learning new things', 'language models are fun', 'deep learning is powerful']\n"
     ]
    }
   ],
   "source": [
    "sentences = corpus.strip().split(\"\\n\")\n",
    "print(sentences)"
   ]
  },
  {
   "cell_type": "code",
   "execution_count": 3,
   "id": "90c28604-f31c-43ce-9d6f-388d8b32e798",
   "metadata": {},
   "outputs": [],
   "source": [
    "import nltk\n",
    "from nltk.util import ngrams\n",
    "from collections import defaultdict, Counter"
   ]
  },
  {
   "cell_type": "code",
   "execution_count": 5,
   "id": "0865f55c-9b3a-4ccc-8cc3-e915a4f3761c",
   "metadata": {},
   "outputs": [
    {
     "name": "stderr",
     "output_type": "stream",
     "text": [
      "[nltk_data] Downloading package punkt to\n",
      "[nltk_data]     /Users/parkjuyong/nltk_data...\n",
      "[nltk_data]   Package punkt is already up-to-date!\n"
     ]
    },
    {
     "data": {
      "text/plain": [
       "True"
      ]
     },
     "execution_count": 5,
     "metadata": {},
     "output_type": "execute_result"
    }
   ],
   "source": [
    "nltk.download('punkt')"
   ]
  },
  {
   "cell_type": "code",
   "execution_count": 7,
   "id": "c3647282-9df1-4943-a036-f43a9839629d",
   "metadata": {},
   "outputs": [
    {
     "name": "stdout",
     "output_type": "stream",
     "text": [
      "[['i', 'love', 'natural', 'language', 'processing'], ['i', 'love', 'deep', 'learning'], ['i', 'enjoy', 'learning', 'new', 'things'], ['language', 'models', 'are', 'fun'], ['deep', 'learning', 'is', 'powerful']]\n"
     ]
    }
   ],
   "source": [
    "# 단어 단위 토근화\n",
    "tokenized_sentences = [nltk.word_tokenize(s.lower()) for s in sentences]\n",
    "print(tokenized_sentences)"
   ]
  },
  {
   "cell_type": "code",
   "execution_count": 9,
   "id": "358a79df-7655-423c-9615-066af8189f23",
   "metadata": {},
   "outputs": [
    {
     "name": "stdout",
     "output_type": "stream",
     "text": [
      "None i : 1\n",
      "i love : 1\n",
      "love natural : 1\n",
      "natural language : 1\n",
      "language processing : 1\n",
      "processing None : 1\n",
      "None i : 2\n",
      "i love : 2\n",
      "love deep : 1\n",
      "deep learning : 1\n",
      "learning None : 1\n",
      "None i : 3\n",
      "i enjoy : 1\n",
      "enjoy learning : 1\n",
      "learning new : 1\n",
      "new things : 1\n",
      "things None : 1\n",
      "None language : 1\n",
      "language models : 1\n",
      "models are : 1\n",
      "are fun : 1\n",
      "fun None : 1\n",
      "None deep : 1\n",
      "deep learning : 2\n",
      "learning is : 1\n",
      "is powerful : 1\n",
      "powerful None : 1\n"
     ]
    }
   ],
   "source": [
    "# Bigram 확률 테이블 만들기\n",
    "bigram_counts = defaultdict(Counter)\n",
    "\n",
    "for tokens in tokenized_sentences:\n",
    "    for w1, w2 in ngrams(tokens, 2, pad_right=True, pad_left=True):\n",
    "        bigram_counts[w1][w2] += 1\n",
    "        print(str(w1) + \" \" + str(w2) + \" : \" + str(bigram_counts[w1][w2])) # 작업 확인용 출력"
   ]
  },
  {
   "cell_type": "code",
   "execution_count": 14,
   "id": "b6c11869-a42e-4bea-bf29-6dd09d7e8a70",
   "metadata": {},
   "outputs": [
    {
     "name": "stdout",
     "output_type": "stream",
     "text": [
      "None Counter({'i': 3, 'language': 1, 'deep': 1})\n",
      "i Counter({'love': 2, 'enjoy': 1})\n",
      "love Counter({'natural': 1, 'deep': 1})\n",
      "natural Counter({'language': 1})\n",
      "language Counter({'processing': 1, 'models': 1})\n",
      "processing Counter({None: 1})\n",
      "deep Counter({'learning': 2})\n",
      "learning Counter({None: 1, 'new': 1, 'is': 1})\n",
      "enjoy Counter({'learning': 1})\n",
      "new Counter({'things': 1})\n",
      "things Counter({None: 1})\n",
      "models Counter({'are': 1})\n",
      "are Counter({'fun': 1})\n",
      "fun Counter({None: 1})\n",
      "is Counter({'powerful': 1})\n",
      "powerful Counter({None: 1})\n"
     ]
    }
   ],
   "source": [
    "for w, v in bigram_counts.items():\n",
    "    print(w,v) #작업 확인용 출력2"
   ]
  },
  {
   "cell_type": "code",
   "execution_count": 18,
   "id": "d4a6562e-9a6e-48e3-8c38-79155d9a770c",
   "metadata": {},
   "outputs": [],
   "source": [
    "# 확률 계산\n",
    "bigram_prob = {\n",
    "    w1 : {w2: count/sum(counter.values()) for w2, count in counter.items()}\n",
    "    for w1, counter in bigram_counts.items()\n",
    "}"
   ]
  },
  {
   "cell_type": "code",
   "execution_count": 20,
   "id": "557f4f21-dcc9-4436-8d50-5ec7e02a36ee",
   "metadata": {},
   "outputs": [
    {
     "name": "stdout",
     "output_type": "stream",
     "text": [
      "Bigram 확률 :  {'love': 0.6666666666666666, 'enjoy': 0.3333333333333333}\n"
     ]
    }
   ],
   "source": [
    "print(\"Bigram 확률 : \", bigram_prob[\"i\"])"
   ]
  },
  {
   "cell_type": "code",
   "execution_count": 21,
   "id": "8208d966-c7dd-4cf5-b23a-37ef4075b8ef",
   "metadata": {},
   "outputs": [],
   "source": [
    "# Bigram 모델 기반 문장 생성\n",
    "import random"
   ]
  },
  {
   "cell_type": "code",
   "execution_count": 25,
   "id": "7c203142-7a0c-4c51-9156-fa0169c1e66c",
   "metadata": {},
   "outputs": [],
   "source": [
    "def generate_sentence_bigram(start_word=\"i\", length=6):\n",
    "    word = start_word\n",
    "    sentence = [word]\n",
    "    for _ in range(length-1):\n",
    "        if word not in bigram_prob:\n",
    "            break\n",
    "        next_words = list(bigram_prob[word].keys())\n",
    "        probs = list(bigram_prob[word].values())\n",
    "        word = random.choices(next_words, probs)[0]\n",
    "        if word is None: # 문장 끝이면 종료\n",
    "            break\n",
    "        sentence.append(word)\n",
    "    return \" \".join(sentence)"
   ]
  },
  {
   "cell_type": "code",
   "execution_count": 31,
   "id": "a92aae8c-3df6-40bb-8b48-5ec6d933212f",
   "metadata": {},
   "outputs": [
    {
     "name": "stdout",
     "output_type": "stream",
     "text": [
      "i love natural language processing\n"
     ]
    }
   ],
   "source": [
    "print(generate_sentence_bigram())"
   ]
  },
  {
   "cell_type": "code",
   "execution_count": 33,
   "id": "1a2f5d2c-6cba-470d-ac8f-911c7cf89440",
   "metadata": {},
   "outputs": [
    {
     "name": "stdout",
     "output_type": "stream",
     "text": [
      "language models are fun\n"
     ]
    }
   ],
   "source": [
    "print(generate_sentence_bigram(\"language\"))"
   ]
  },
  {
   "cell_type": "code",
   "execution_count": 42,
   "id": "d1169594-167e-48de-a461-654af1de3d3d",
   "metadata": {},
   "outputs": [],
   "source": [
    "# Tigram 모델\n",
    "# Tigram 확률 테이블 만들기\n",
    "trigram_counts = defaultdict(Counter)\n",
    "\n",
    "for tokens in tokenized_sentences:\n",
    "    for w1, w2, w3 in ngrams(tokens, 3, pad_right=True, pad_left=True):\n",
    "        trigram_counts[(w1,w2)][w3] += 1"
   ]
  },
  {
   "cell_type": "code",
   "execution_count": 43,
   "id": "befb94c0-1cdf-4f3b-8c8b-25a709fad706",
   "metadata": {},
   "outputs": [
    {
     "name": "stdout",
     "output_type": "stream",
     "text": [
      "(None, None) Counter({'i': 3, 'language': 1, 'deep': 1})\n",
      "(None, 'i') Counter({'love': 2, 'enjoy': 1})\n",
      "('i', 'love') Counter({'natural': 1, 'deep': 1})\n",
      "('love', 'natural') Counter({'language': 1})\n",
      "('natural', 'language') Counter({'processing': 1})\n",
      "('language', 'processing') Counter({None: 1})\n",
      "('processing', None) Counter({None: 1})\n",
      "('love', 'deep') Counter({'learning': 1})\n",
      "('deep', 'learning') Counter({None: 1, 'is': 1})\n",
      "('learning', None) Counter({None: 1})\n",
      "('i', 'enjoy') Counter({'learning': 1})\n",
      "('enjoy', 'learning') Counter({'new': 1})\n",
      "('learning', 'new') Counter({'things': 1})\n",
      "('new', 'things') Counter({None: 1})\n",
      "('things', None) Counter({None: 1})\n",
      "(None, 'language') Counter({'models': 1})\n",
      "('language', 'models') Counter({'are': 1})\n",
      "('models', 'are') Counter({'fun': 1})\n",
      "('are', 'fun') Counter({None: 1})\n",
      "('fun', None) Counter({None: 1})\n",
      "(None, 'deep') Counter({'learning': 1})\n",
      "('learning', 'is') Counter({'powerful': 1})\n",
      "('is', 'powerful') Counter({None: 1})\n",
      "('powerful', None) Counter({None: 1})\n"
     ]
    }
   ],
   "source": [
    "for w, v in trigram_counts.items():\n",
    "    print(w,v) # 작업 확인용 출력"
   ]
  },
  {
   "cell_type": "code",
   "execution_count": 46,
   "id": "68e68d77-72b6-416f-835c-396ed266d439",
   "metadata": {},
   "outputs": [
    {
     "name": "stdout",
     "output_type": "stream",
     "text": [
      "Trigram 확률:  {'natural': 0.5, 'deep': 0.5}\n"
     ]
    }
   ],
   "source": [
    "# 확률 계산\n",
    "trigram_prob = {\n",
    "    (w1,w2): {w3: count/sum(counter.values()) for w3, count in counter.items()}\n",
    "    for (w1,w2), counter in trigram_counts.items()\n",
    "}\n",
    "\n",
    "print(\"Trigram 확률: \", trigram_prob[(\"i\",\"love\")])"
   ]
  },
  {
   "cell_type": "code",
   "execution_count": 47,
   "id": "ef167db9-2374-46a4-b892-06a467c644ed",
   "metadata": {},
   "outputs": [
    {
     "name": "stdout",
     "output_type": "stream",
     "text": [
      "다음 단어 예측 확률:  {None: 0.5, 'is': 0.5}\n"
     ]
    }
   ],
   "source": [
    "context = (\"deep\", \"learning\")\n",
    "print(\"다음 단어 예측 확률: \", trigram_prob[context])"
   ]
  },
  {
   "cell_type": "code",
   "execution_count": 48,
   "id": "6dd7d12d-49dd-4a4b-aa10-b76b0cb95319",
   "metadata": {},
   "outputs": [],
   "source": [
    "# Tigram 모델 기반 문장 생성\n",
    "def generate_sentence_trigram(start_words=(\"i\", \"love\"), length=7):\n",
    "    w1, w2 = start_words\n",
    "    sentence = [w1, w2]\n",
    "    for _ in range(length-2):\n",
    "        if(w1,w2) not in trigram_prob:\n",
    "            break\n",
    "        next_words = list(trigram_prob[(w1,w2)].keys())\n",
    "        probs = list(trigram_prob[(w1,w2)].values())\n",
    "        w3 = random.choices(next_words, probs)[0]\n",
    "        if w3 is None:\n",
    "            break\n",
    "        sentence.append(w3)\n",
    "        w1,w2 = w2,w3\n",
    "    return \" \".join(sentence)"
   ]
  },
  {
   "cell_type": "code",
   "execution_count": 50,
   "id": "787d3993-8f91-4693-87a0-90ffd1020a4b",
   "metadata": {},
   "outputs": [
    {
     "name": "stdout",
     "output_type": "stream",
     "text": [
      "i love natural language processing\n"
     ]
    }
   ],
   "source": [
    "print(generate_sentence_trigram()) # \"i love\"로 시작하는 문장 생성"
   ]
  },
  {
   "cell_type": "code",
   "execution_count": 52,
   "id": "3726a530-4f4c-48e6-b32f-5629b8d6a143",
   "metadata": {},
   "outputs": [
    {
     "name": "stdout",
     "output_type": "stream",
     "text": [
      "natural language processing\n"
     ]
    }
   ],
   "source": [
    "print(generate_sentence_trigram((\"natural\", \"language\"))) # \"natural language\"로 시작하는 문장 생성"
   ]
  },
  {
   "cell_type": "code",
   "execution_count": 54,
   "id": "e17b74e5-4ce7-4036-94df-542152156eb8",
   "metadata": {},
   "outputs": [
    {
     "name": "stdout",
     "output_type": "stream",
     "text": [
      "처리 결과:  {'powerful': 1.0}\n"
     ]
    }
   ],
   "source": [
    "# 훈련 데이터에 잇는 문장 시도\n",
    "seen_context = ('learning', 'is')\n",
    "print(\"처리 결과: \", trigram_prob.get(seen_context, \"No data\"))"
   ]
  },
  {
   "cell_type": "code",
   "execution_count": 55,
   "id": "21b59960-68cb-44bb-8ab8-c6da97f52726",
   "metadata": {},
   "outputs": [
    {
     "name": "stdout",
     "output_type": "stream",
     "text": [
      "처리 결과:  No data\n"
     ]
    }
   ],
   "source": [
    "# 훈련 데이터에 없는 새로운 문장 시도\n",
    "unseen_context = (\"processing\", \"is\")\n",
    "print(\"처리 결과: \", trigram_prob.get(unseen_context, \"No data\"))"
   ]
  },
  {
   "cell_type": "code",
   "execution_count": 56,
   "id": "afa96c10-1267-46c8-958b-f76fb2ac89c6",
   "metadata": {},
   "outputs": [
    {
     "name": "stdout",
     "output_type": "stream",
     "text": [
      "language models are fun\n"
     ]
    }
   ],
   "source": [
    "# 회귀 단어 포함 문장 생성 시도\n",
    "print(generate_sentence_trigram((\"language\", \"models\")))"
   ]
  },
  {
   "cell_type": "code",
   "execution_count": null,
   "id": "107fa8da-6975-45c6-ae3b-06484ee1d562",
   "metadata": {},
   "outputs": [],
   "source": []
  }
 ],
 "metadata": {
  "kernelspec": {
   "display_name": "NLP\n(NLP_Lec_env)",
   "language": "python",
   "name": "nlp_lec_env"
  },
  "language_info": {
   "codemirror_mode": {
    "name": "ipython",
    "version": 3
   },
   "file_extension": ".py",
   "mimetype": "text/x-python",
   "name": "python",
   "nbconvert_exporter": "python",
   "pygments_lexer": "ipython3",
   "version": "3.9.23"
  }
 },
 "nbformat": 4,
 "nbformat_minor": 5
}
