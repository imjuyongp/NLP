{
 "cells": [
  {
   "cell_type": "code",
   "execution_count": 1,
   "id": "bf82c92e-0aa7-4c8e-ae1c-c3b31ae394e7",
   "metadata": {},
   "outputs": [],
   "source": [
    "import matplotlib.pyplot as plt\n",
    "import seaborn as sns"
   ]
  },
  {
   "cell_type": "code",
   "execution_count": 10,
   "id": "942a9d42-d5f7-4276-9539-d7bf831a959c",
   "metadata": {},
   "outputs": [],
   "source": [
    "sentences = [\n",
    "    \"I study natural ianguage processing\",\n",
    "    \"I study deep learning\",\n",
    "    \"Language models capture meaning\",\n",
    "    \"I went to the bank to deposit money\",\n",
    "    \"The river bank was full of beautiful flowers\"\n",
    "]"
   ]
  },
  {
   "cell_type": "code",
   "execution_count": 11,
   "id": "055b6b3b-d583-4389-a75c-f6045a31e1bb",
   "metadata": {},
   "outputs": [],
   "source": [
    "tokenized_sentences = [s.lower().split() for s in sentence]"
   ]
  },
  {
   "cell_type": "code",
   "execution_count": 12,
   "id": "f66fcfa8-3773-491e-bef0-4320d6006af2",
   "metadata": {},
   "outputs": [],
   "source": [
    "from gensim.models import Word2Vec"
   ]
  },
  {
   "cell_type": "code",
   "execution_count": 14,
   "id": "bf21738a-9760-4966-9560-2dd874a9eac4",
   "metadata": {},
   "outputs": [],
   "source": [
    "w2v_model = Word2Vec(tokenized_sentences, vector_size=50, window=5, min_count=1, workers=4)"
   ]
  },
  {
   "cell_type": "code",
   "execution_count": 18,
   "id": "7f51a53d-1ac0-420c-9f16-f3ad0bf7ba86",
   "metadata": {},
   "outputs": [],
   "source": [
    "# 단어 벡터 추출\n",
    "words = [\"language\", \"models\", \"bank\", \"money\", \"flowers\"]\n",
    "w2v_vectors = [w2v_model.wv[w] for w in words]"
   ]
  },
  {
   "cell_type": "code",
   "execution_count": 19,
   "id": "0250a6d2-ce53-4e13-bd14-f1c2525ee1ff",
   "metadata": {},
   "outputs": [
    {
     "data": {
      "text/plain": [
       "[array([ 0.00548122, -0.0167151 ,  0.01571156,  0.01707681, -0.01916298,\n",
       "         0.00489016,  0.0198126 , -0.01532891, -0.01393697, -0.01547575,\n",
       "         0.01679223, -0.00136641,  0.0182906 , -0.01631531,  0.00749013,\n",
       "         0.00527337,  0.00148906,  0.0046571 , -0.01494301, -0.01871782,\n",
       "         0.00470971,  0.01229644,  0.01597838,  0.01146936, -0.00155111,\n",
       "         0.01661263, -0.01867324,  0.00681483,  0.00053146,  0.00771655,\n",
       "         0.01477913, -0.01345451,  0.01116761, -0.01904584, -0.00160738,\n",
       "        -0.01737539, -0.01019285,  0.01858084, -0.00371374,  0.00583357,\n",
       "         0.01814583,  0.01787558, -0.01642076, -0.00602486,  0.01977506,\n",
       "         0.0102125 , -0.00317269, -0.01738477,  0.00592264, -0.01335211],\n",
       "       dtype=float32),\n",
       " array([ 1.62600223e-02, -8.91000312e-03, -2.13690009e-03,  2.01524817e-03,\n",
       "        -3.77016317e-04,  2.29452597e-03,  1.22289937e-02, -3.78567238e-05,\n",
       "        -6.49305061e-03, -3.02319368e-03,  1.17943464e-02,  3.02665122e-03,\n",
       "        -1.44607760e-03,  1.86665691e-02, -9.84031055e-03, -1.67687878e-03,\n",
       "         1.83521193e-02,  1.35002406e-02,  3.00143100e-03, -1.77661926e-02,\n",
       "         2.29667127e-03, -4.57780622e-03,  1.87415220e-02,  2.41773552e-03,\n",
       "         2.98041338e-03,  4.81166737e-03, -3.67260724e-03, -9.99831222e-03,\n",
       "         4.63142147e-04, -4.02751053e-03,  1.32066142e-02,  1.78759359e-02,\n",
       "        -1.35001692e-03,  5.95347723e-03, -1.22133158e-02,  3.40004917e-03,\n",
       "        -1.38504189e-02, -1.73866097e-02, -1.17989406e-02, -1.79095827e-02,\n",
       "         1.45549821e-02, -1.15439175e-02,  1.65510662e-02, -1.44853815e-02,\n",
       "         6.84641115e-03,  1.93520635e-02, -1.55684631e-02, -1.98891163e-02,\n",
       "        -8.65756348e-03, -5.36700711e-03], dtype=float32),\n",
       " array([-0.01724796,  0.00735785,  0.01038064,  0.01151249,  0.01495455,\n",
       "        -0.0123611 ,  0.0022123 ,  0.01210792, -0.00569313, -0.01236463,\n",
       "        -0.00081345, -0.01674606, -0.01118486,  0.01420871,  0.00672143,\n",
       "         0.01445278,  0.01360109,  0.01505065, -0.00760186, -0.00114282,\n",
       "         0.00469212, -0.00904095,  0.01679344, -0.01974866,  0.01353265,\n",
       "         0.00581144, -0.00987697,  0.00880812, -0.00347569,  0.01342814,\n",
       "         0.01995343, -0.00875289, -0.00120149, -0.01138114,  0.00770277,\n",
       "         0.00557979,  0.01379266,  0.01221227,  0.01908151,  0.01855585,\n",
       "         0.01578543, -0.0139736 , -0.01831677, -0.00069914, -0.00619248,\n",
       "         0.01579538,  0.01189335, -0.00308568,  0.00302439,  0.00359603],\n",
       "       dtype=float32),\n",
       " array([-0.00010637,  0.00055057, -0.00033202, -0.0095591 ,  0.00863489,\n",
       "        -0.00435835,  0.00420764,  0.00133604,  0.01194024, -0.01369871,\n",
       "        -0.01362392, -0.00895982,  0.01889134, -0.00318755, -0.01884776,\n",
       "        -0.00108711, -0.00889421,  0.01199212, -0.01918607,  0.00571716,\n",
       "        -0.01850946,  0.0025084 ,  0.0120002 ,  0.01477666, -0.0152399 ,\n",
       "        -0.01211383, -0.0136792 , -0.0158399 , -0.01899128, -0.00425027,\n",
       "        -0.00166705, -0.01452781,  0.01357105,  0.00225274,  0.01165156,\n",
       "         0.00295519,  0.00158589, -0.01473712, -0.00435106,  0.00864754,\n",
       "        -0.01017754,  0.00227305,  0.00577573, -0.00307637,  0.01986748,\n",
       "         0.01670983,  0.00483288,  0.01424012,  0.0117806 , -0.01115233],\n",
       "       dtype=float32),\n",
       " array([-0.0005568 , -0.0176444 , -0.01722287,  0.00561304, -0.01639739,\n",
       "        -0.01815347, -0.0046717 , -0.01725184, -0.01411571, -0.01682044,\n",
       "        -0.00058983, -0.00914159,  0.01326196,  0.00305297, -0.00666333,\n",
       "         0.01222555, -0.0120166 , -0.00931263, -0.01443831, -0.00867093,\n",
       "        -0.00361948,  0.01297825, -0.00551904,  0.00982435,  0.01380624,\n",
       "        -0.0149266 ,  0.00912156,  0.01225551, -0.00590603,  0.01325286,\n",
       "         0.01226259, -0.01290536, -0.01353058,  0.00508007, -0.00324296,\n",
       "        -0.01211331,  0.01901614, -0.01025772, -0.01310696, -0.00022997,\n",
       "        -0.00539793,  0.00088898, -0.00707497, -0.00084435, -0.00141838,\n",
       "         0.00166155,  0.01640439, -0.01147375, -0.00332562,  0.01114744],\n",
       "       dtype=float32)]"
      ]
     },
     "execution_count": 19,
     "metadata": {},
     "output_type": "execute_result"
    }
   ],
   "source": [
    "w2v_vectors"
   ]
  },
  {
   "cell_type": "code",
   "execution_count": 21,
   "id": "e3efe773-31b6-4b79-9645-91a6fd5180b0",
   "metadata": {},
   "outputs": [],
   "source": [
    "# 2D 시각화를 위한 차원 축소 (t-SNE)\n",
    "from sklearn.manifold import TSNE\n",
    "import numpy as np"
   ]
  },
  {
   "cell_type": "code",
   "execution_count": 25,
   "id": "74d503b4-8fe8-470c-9a8c-e64cebf3674f",
   "metadata": {},
   "outputs": [],
   "source": [
    "# word2Vec 시각화 tsne 입력 형태인 array로 변형\n",
    "X_w2v_vectors = np.array(w2v_vectors) #(n_samples, n_features\n",
    "n_samples = X_w2v_vectors.shape[0]\n",
    "perplexity = max(1, min(30,n_samples - 1))"
   ]
  },
  {
   "cell_type": "code",
   "execution_count": 27,
   "id": "06ba4e4c-4ace-4078-80b2-03edda9ea547",
   "metadata": {},
   "outputs": [],
   "source": [
    "# Word2Vec 시각화 tsne 학습\n",
    "tsne = TSNE(n_components=2, random_state=42, perplexity = perplexity)\n",
    "w2v_2d = tsne.fit_transform(X_w2v_vectors)"
   ]
  },
  {
   "cell_type": "code",
   "execution_count": 32,
   "id": "f2e20abd-07cc-4eed-a935-001989b8cd70",
   "metadata": {},
   "outputs": [
    {
     "data": {
      "image/png": "[encoded data removed]",
      "text/plain": [
       "<Figure size 600x400 with 1 Axes>"
      ]
     },
     "metadata": {},
     "output_type": "display_data"
    }
   ],
   "source": [
    "plt.figure(figsize = (6,4))\n",
    "\n",
    "for i, word in enumerate(words):\n",
    "    plt.scatter(w2v_2d[i,0], w2v_2d[i,1])\n",
    "    plt.text(w2v_2d[i,0]+0.01, w2v_2d[i,1]+0.01, word)\n",
    "\n",
    "plt.title(\"Word2Vec 2D Visualization\")\n",
    "plt.show()"
   ]
  },
  {
   "cell_type": "code",
   "execution_count": 33,
   "id": "82df8414-d471-41de-98e7-d6b13753a9d6",
   "metadata": {},
   "outputs": [],
   "source": [
    "#Glove\n",
    "import gensim.downloader as api"
   ]
  },
  {
   "cell_type": "code",
   "execution_count": 35,
   "id": "85619939-d810-40c9-8667-d21fffe3cc18",
   "metadata": {},
   "outputs": [
    {
     "name": "stdout",
     "output_type": "stream",
     "text": [
      "[=================---------------------------------] 35.5% 23.4/66.0MB downloaded"
     ]
    },
    {
     "name": "stderr",
     "output_type": "stream",
     "text": [
      "IOPub message rate exceeded.\n",
      "The Jupyter server will temporarily stop sending output\n",
      "to the client in order to avoid crashing it.\n",
      "To change this limit, set the config variable\n",
      "`--ServerApp.iopub_msg_rate_limit`.\n",
      "\n",
      "Current values:\n",
      "ServerApp.iopub_msg_rate_limit=1000.0 (msgs/sec)\n",
      "ServerApp.rate_limit_window=3.0 (secs)\n",
      "\n"
     ]
    },
    {
     "name": "stdout",
     "output_type": "stream",
     "text": [
      "[==================================================] 100.0% 66.0/66.0MB downloaded\n"
     ]
    }
   ],
   "source": [
    "glove_model = api.load(\"glove-wiki-gigaword-50\")"
   ]
  },
  {
   "cell_type": "code",
   "execution_count": 36,
   "id": "5a77b9c7-8243-4616-9f42-8c75c97e79d2",
   "metadata": {},
   "outputs": [],
   "source": [
    "glove_vectors = [glove_model[w] for w in words]"
   ]
  },
  {
   "cell_type": "code",
   "execution_count": 38,
   "id": "1e194e46-fe25-4846-9231-2e0ec68a8e10",
   "metadata": {},
   "outputs": [],
   "source": [
    "# 시각화 tsne 입력 형태인 array로 변형\n",
    "X_glove_vectors = np.array(glove_vectors)\n",
    "n_samples = X_glove_vectors.shape[0]\n",
    "perplexoty = max(i, min(30,n_samples - 1))"
   ]
  },
  {
   "cell_type": "code",
   "execution_count": 39,
   "id": "8f11738f-72f9-4577-9d6f-9d6b0039164c",
   "metadata": {},
   "outputs": [
    {
     "data": {
      "image/png": "[encoded data removed]",
      "text/plain": [
       "<Figure size 600x400 with 1 Axes>"
      ]
     },
     "metadata": {},
     "output_type": "display_data"
    }
   ],
   "source": [
    "# Glove 시각화\n",
    "glove_2d = TSNE(n_components=2, random_state=42, perplexity=perplexity).fit_transform(X_glove_vectors)\n",
    "\n",
    "plt.figure(figsize=(6,4))\n",
    "for i, word in enumerate(words):\n",
    "    plt.scatter(glove_2d[i,0], glove_2d[i,1])\n",
    "    plt.text(glove_2d[i,0]+0.01, glove_2d[i,1]+0.01, word)\n",
    "plt.title(\"glove 2D Visualization\")\n",
    "plt.show()"
   ]
  },
  {
   "cell_type": "code",
   "execution_count": 40,
   "id": "4d430d23-17e1-48cb-a31d-5661bfeec196",
   "metadata": {},
   "outputs": [],
   "source": [
    "#BERT\n",
    "from sentence_transformers import SentenceTransformer\n",
    "import numpy as np"
   ]
  },
  {
   "cell_type": "code",
   "execution_count": 41,
   "id": "ae1b9b80-d771-4f60-b639-37e914b63227",
   "metadata": {},
   "outputs": [
    {
     "data": {
      "application/vnd.jupyter.widget-view+json": {
       "model_id": "c6e173e9ff4347dab49c3b8d0438d1f9",
       "version_major": 2,
       "version_minor": 0
      },
      "text/plain": [
       "modules.json:   0%|          | 0.00/349 [00:00<?, ?B/s]"
      ]
     },
     "metadata": {},
     "output_type": "display_data"
    },
    {
     "data": {
      "application/vnd.jupyter.widget-view+json": {
       "model_id": "bf623a7658ce4998a9d202f48fb5e493",
       "version_major": 2,
       "version_minor": 0
      },
      "text/plain": [
       "config_sentence_transformers.json:   0%|          | 0.00/116 [00:00<?, ?B/s]"
      ]
     },
     "metadata": {},
     "output_type": "display_data"
    },
    {
     "data": {
      "application/vnd.jupyter.widget-view+json": {
       "model_id": "4a5c2e26029b43c185236cedcd79ef84",
       "version_major": 2,
       "version_minor": 0
      },
      "text/plain": [
       "README.md: 0.00B [00:00, ?B/s]"
      ]
     },
     "metadata": {},
     "output_type": "display_data"
    },
    {
     "data": {
      "application/vnd.jupyter.widget-view+json": {
       "model_id": "8e82f29fca104dc4b62f619abebf04f2",
       "version_major": 2,
       "version_minor": 0
      },
      "text/plain": [
       "sentence_bert_config.json:   0%|          | 0.00/53.0 [00:00<?, ?B/s]"
      ]
     },
     "metadata": {},
     "output_type": "display_data"
    },
    {
     "data": {
      "application/vnd.jupyter.widget-view+json": {
       "model_id": "3696a62e25424141946d5fd53d41cd52",
       "version_major": 2,
       "version_minor": 0
      },
      "text/plain": [
       "config.json:   0%|          | 0.00/612 [00:00<?, ?B/s]"
      ]
     },
     "metadata": {},
     "output_type": "display_data"
    },
    {
     "data": {
      "application/vnd.jupyter.widget-view+json": {
       "model_id": "a42ca75938e240a9a80322ec1fb3688a",
       "version_major": 2,
       "version_minor": 0
      },
      "text/plain": [
       "model.safetensors:   0%|          | 0.00/90.9M [00:00<?, ?B/s]"
      ]
     },
     "metadata": {},
     "output_type": "display_data"
    },
    {
     "data": {
      "application/vnd.jupyter.widget-view+json": {
       "model_id": "920675689f8546199fe4c37b67900a6c",
       "version_major": 2,
       "version_minor": 0
      },
      "text/plain": [
       "tokenizer_config.json:   0%|          | 0.00/350 [00:00<?, ?B/s]"
      ]
     },
     "metadata": {},
     "output_type": "display_data"
    },
    {
     "data": {
      "application/vnd.jupyter.widget-view+json": {
       "model_id": "303d88b5605b4717b6e147ce628d4c70",
       "version_major": 2,
       "version_minor": 0
      },
      "text/plain": [
       "vocab.txt: 0.00B [00:00, ?B/s]"
      ]
     },
     "metadata": {},
     "output_type": "display_data"
    },
    {
     "data": {
      "application/vnd.jupyter.widget-view+json": {
       "model_id": "e9dce5c3254144f58105a5b1486adf39",
       "version_major": 2,
       "version_minor": 0
      },
      "text/plain": [
       "tokenizer.json: 0.00B [00:00, ?B/s]"
      ]
     },
     "metadata": {},
     "output_type": "display_data"
    },
    {
     "data": {
      "application/vnd.jupyter.widget-view+json": {
       "model_id": "8ee94df8097d4a289dbde7ec306a0d6e",
       "version_major": 2,
       "version_minor": 0
      },
      "text/plain": [
       "special_tokens_map.json:   0%|          | 0.00/112 [00:00<?, ?B/s]"
      ]
     },
     "metadata": {},
     "output_type": "display_data"
    },
    {
     "data": {
      "application/vnd.jupyter.widget-view+json": {
       "model_id": "917f83116c9d4556b7e03e82cf8bf122",
       "version_major": 2,
       "version_minor": 0
      },
      "text/plain": [
       "config.json:   0%|          | 0.00/190 [00:00<?, ?B/s]"
      ]
     },
     "metadata": {},
     "output_type": "display_data"
    }
   ],
   "source": [
    "bert_model = SentenceTransformer('all-MiniLM-L6-v2')"
   ]
  },
  {
   "cell_type": "code",
   "execution_count": 42,
   "id": "a4a2a4c5-4984-4601-8bdb-a198b723ff7f",
   "metadata": {},
   "outputs": [],
   "source": [
    "# 단어 수준 확인을 위해 문장 단위로 추출 후 첫 단어 임베딩 사용\n",
    "bert_embeddings = bert_model.encode(sentences)"
   ]
  },
  {
   "cell_type": "code",
   "execution_count": 46,
   "id": "f1b4b2c2-d02f-45db-8995-a8b31826f441",
   "metadata": {},
   "outputs": [],
   "source": [
    "# 시각화 tsne 입력 형태인 array로 변형\n",
    "X_bert_vectors = np.array(bert_embeddings) #(n_samples, n_features)\n",
    "n_samples = X_bert_vertors.shape[0]\n",
    "perplexity = max(1, min(30, n_samples - 1))"
   ]
  },
  {
   "cell_type": "code",
   "execution_count": 48,
   "id": "22fa5c55-51df-4be8-b98d-eca54ca9042a",
   "metadata": {},
   "outputs": [
    {
     "data": {
      "image/png": "[encoded data removed]",
      "text/plain": [
       "<Figure size 600x400 with 1 Axes>"
      ]
     },
     "metadata": {},
     "output_type": "display_data"
    }
   ],
   "source": [
    "bert_2d = TSNE(n_components=2, random_state=42, perplexity = perplexity).fit_transform(X_bert_vectors)\n",
    "\n",
    "plt.figure(figsize=(6,4))\n",
    "bert_words = [\"language\", \"models\", \"bank\", \"money\", \"flowers\"]\n",
    "for i, word in enumerate(bert_words):\n",
    "    plt.scatter(bert_2d[i,0], bert_2d[i,1])\n",
    "    plt.text(bert_2d[i,0]+0.01, bert_2d[i,1]+0.01, word)\n",
    "plt.title(\"BERT 2D Visualization\")\n",
    "plt.show()"
   ]
  },
  {
   "cell_type": "code",
   "execution_count": null,
   "id": "90fda1ac-69ce-435f-a96c-17d814e9e873",
   "metadata": {},
   "outputs": [],
   "source": []
  }
 ],
 "metadata": {
  "kernelspec": {
   "display_name": "NLP\n(NLP_Lec_env)",
   "language": "python",
   "name": "nlp_lec_env"
  },
  "language_info": {
   "codemirror_mode": {
    "name": "ipython",
    "version": 3
   },
   "file_extension": ".py",
   "mimetype": "text/x-python",
   "name": "python",
   "nbconvert_exporter": "python",
   "pygments_lexer": "ipython3",
   "version": "3.9.23"
  }
 },
 "nbformat": 4,
 "nbformat_minor": 5
}
