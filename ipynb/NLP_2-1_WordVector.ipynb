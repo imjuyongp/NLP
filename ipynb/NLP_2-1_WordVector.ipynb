{
 "cells": [
  {
   "cell_type": "code",
   "execution_count": 1,
   "id": "8797eb3e-13cc-4c39-a889-1f8f050db416",
   "metadata": {},
   "outputs": [],
   "source": [
    "corpus = [\n",
    "    \"I love NLP\",\n",
    "    \"NLP is fun\",\n",
    "    \"I love machine learning\"\n",
    "]"
   ]
  },
  {
   "cell_type": "code",
   "execution_count": 2,
   "id": "a6d55e47-24ca-4461-9b70-1a8d7ff48a64",
   "metadata": {},
   "outputs": [],
   "source": [
    "from sklearn.preprocessing import OneHotEncoder\n",
    "import numpy as np"
   ]
  },
  {
   "cell_type": "code",
   "execution_count": 4,
   "id": "825f57b8-4c1f-43c1-883b-4d1cecc9316f",
   "metadata": {},
   "outputs": [],
   "source": [
    "# 단어 목록 생성\n",
    "words = set()\n",
    "\n",
    "for sent in corpus:\n",
    "    for word in sent.split():\n",
    "        words.add(word)\n",
    "\n",
    "word_list = sorted(list(words))"
   ]
  },
  {
   "cell_type": "code",
   "execution_count": 5,
   "id": "91b78b94-423a-47fc-9e39-d9b6b58d3460",
   "metadata": {},
   "outputs": [
    {
     "name": "stdout",
     "output_type": "stream",
     "text": [
      "['I', 'NLP', 'fun', 'is', 'learning', 'love', 'machine']\n"
     ]
    }
   ],
   "source": [
    "print(word_list)"
   ]
  },
  {
   "cell_type": "code",
   "execution_count": 6,
   "id": "aff75487-b566-408e-9c16-ba9674e2b845",
   "metadata": {},
   "outputs": [
    {
     "data": {
      "text/html": [
       "<style>#sk-container-id-1 {color: black;background-color: white;}#sk-container-id-1 pre{padding: 0;}#sk-container-id-1 div.sk-toggleable {background-color: white;}#sk-container-id-1 label.sk-toggleable__label {cursor: pointer;display: block;width: 100%;margin-bottom: 0;padding: 0.3em;box-sizing: border-box;text-align: center;}#sk-container-id-1 label.sk-toggleable__label-arrow:before {content: \"▸\";float: left;margin-right: 0.25em;color: #696969;}#sk-container-id-1 label.sk-toggleable__label-arrow:hover:before {color: black;}#sk-container-id-1 div.sk-estimator:hover label.sk-toggleable__label-arrow:before {color: black;}#sk-container-id-1 div.sk-toggleable__content {max-height: 0;max-width: 0;overflow: hidden;text-align: left;background-color: #f0f8ff;}#sk-container-id-1 div.sk-toggleable__content pre {margin: 0.2em;color: black;border-radius: 0.25em;background-color: #f0f8ff;}#sk-container-id-1 input.sk-toggleable__control:checked~div.sk-toggleable__content {max-height: 200px;max-width: 100%;overflow: auto;}#sk-container-id-1 input.sk-toggleable__control:checked~label.sk-toggleable__label-arrow:before {content: \"▾\";}#sk-container-id-1 div.sk-estimator input.sk-toggleable__control:checked~label.sk-toggleable__label {background-color: #d4ebff;}#sk-container-id-1 div.sk-label input.sk-toggleable__control:checked~label.sk-toggleable__label {background-color: #d4ebff;}#sk-container-id-1 input.sk-hidden--visually {border: 0;clip: rect(1px 1px 1px 1px);clip: rect(1px, 1px, 1px, 1px);height: 1px;margin: -1px;overflow: hidden;padding: 0;position: absolute;width: 1px;}#sk-container-id-1 div.sk-estimator {font-family: monospace;background-color: #f0f8ff;border: 1px dotted black;border-radius: 0.25em;box-sizing: border-box;margin-bottom: 0.5em;}#sk-container-id-1 div.sk-estimator:hover {background-color: #d4ebff;}#sk-container-id-1 div.sk-parallel-item::after {content: \"\";width: 100%;border-bottom: 1px solid gray;flex-grow: 1;}#sk-container-id-1 div.sk-label:hover label.sk-toggleable__label {background-color: #d4ebff;}#sk-container-id-1 div.sk-serial::before {content: \"\";position: absolute;border-left: 1px solid gray;box-sizing: border-box;top: 0;bottom: 0;left: 50%;z-index: 0;}#sk-container-id-1 div.sk-serial {display: flex;flex-direction: column;align-items: center;background-color: white;padding-right: 0.2em;padding-left: 0.2em;position: relative;}#sk-container-id-1 div.sk-item {position: relative;z-index: 1;}#sk-container-id-1 div.sk-parallel {display: flex;align-items: stretch;justify-content: center;background-color: white;position: relative;}#sk-container-id-1 div.sk-item::before, #sk-container-id-1 div.sk-parallel-item::before {content: \"\";position: absolute;border-left: 1px solid gray;box-sizing: border-box;top: 0;bottom: 0;left: 50%;z-index: -1;}#sk-container-id-1 div.sk-parallel-item {display: flex;flex-direction: column;z-index: 1;position: relative;background-color: white;}#sk-container-id-1 div.sk-parallel-item:first-child::after {align-self: flex-end;width: 50%;}#sk-container-id-1 div.sk-parallel-item:last-child::after {align-self: flex-start;width: 50%;}#sk-container-id-1 div.sk-parallel-item:only-child::after {width: 0;}#sk-container-id-1 div.sk-dashed-wrapped {border: 1px dashed gray;margin: 0 0.4em 0.5em 0.4em;box-sizing: border-box;padding-bottom: 0.4em;background-color: white;}#sk-container-id-1 div.sk-label label {font-family: monospace;font-weight: bold;display: inline-block;line-height: 1.2em;}#sk-container-id-1 div.sk-label-container {text-align: center;}#sk-container-id-1 div.sk-container {/* jupyter's `normalize.less` sets `[hidden] { display: none; }` but bootstrap.min.css set `[hidden] { display: none !important; }` so we also need the `!important` here to be able to override the default hidden behavior on the sphinx rendered scikit-learn.org. See: https://github.com/scikit-learn/scikit-learn/issues/21755 */display: inline-block !important;position: relative;}#sk-container-id-1 div.sk-text-repr-fallback {display: none;}</style><div id=\"sk-container-id-1\" class=\"sk-top-container\"><div class=\"sk-text-repr-fallback\"><pre>OneHotEncoder(sparse_output=False)</pre><b>In a Jupyter environment, please rerun this cell to show the HTML representation or trust the notebook. <br />On GitHub, the HTML representation is unable to render, please try loading this page with nbviewer.org.</b></div><div class=\"sk-container\" hidden><div class=\"sk-item\"><div class=\"sk-estimator sk-toggleable\"><input class=\"sk-toggleable__control sk-hidden--visually\" id=\"sk-estimator-id-1\" type=\"checkbox\" checked><label for=\"sk-estimator-id-1\" class=\"sk-toggleable__label sk-toggleable__label-arrow\">OneHotEncoder</label><div class=\"sk-toggleable__content\"><pre>OneHotEncoder(sparse_output=False)</pre></div></div></div></div></div>"
      ],
      "text/plain": [
       "OneHotEncoder(sparse_output=False)"
      ]
     },
     "execution_count": 6,
     "metadata": {},
     "output_type": "execute_result"
    }
   ],
   "source": [
    "# 원 - 핫 인코더 생성\n",
    "encoder = OneHotEncoder(sparse_output=False)\n",
    "encoder.fit(np.array(word_list).reshape(-1,1))"
   ]
  },
  {
   "cell_type": "code",
   "execution_count": 9,
   "id": "a03e79d8-c814-4b96-9470-eb3b8946fd00",
   "metadata": {},
   "outputs": [
    {
     "name": "stdout",
     "output_type": "stream",
     "text": [
      "\n",
      "문장: I love NLP\n",
      "[[1. 0. 0. 0. 0. 0. 0.]\n",
      " [0. 0. 0. 0. 0. 1. 0.]\n",
      " [0. 1. 0. 0. 0. 0. 0.]]\n",
      "\n",
      "문장: NLP is fun\n",
      "[[0. 1. 0. 0. 0. 0. 0.]\n",
      " [0. 0. 0. 1. 0. 0. 0.]\n",
      " [0. 0. 1. 0. 0. 0. 0.]]\n",
      "\n",
      "문장: I love machine learning\n",
      "[[1. 0. 0. 0. 0. 0. 0.]\n",
      " [0. 0. 0. 0. 0. 1. 0.]\n",
      " [0. 0. 0. 0. 0. 0. 1.]\n",
      " [0. 0. 0. 0. 1. 0. 0.]]\n"
     ]
    }
   ],
   "source": [
    "# 원-학 인코딩\n",
    "for sent in corpus:\n",
    "    encoded = encoder.transform(np.array(sent.split()).reshape(-1,1))\n",
    "    print(f\"\\n문장: {sent}\")\n",
    "    print(encoded)"
   ]
  },
  {
   "cell_type": "code",
   "execution_count": 11,
   "id": "70d267cc-92bd-478e-8a1d-4422df7baa46",
   "metadata": {},
   "outputs": [
    {
     "name": "stdout",
     "output_type": "stream",
     "text": [
      "\n",
      "새로운 문장: I love machine learning\n",
      "[[1. 0. 0. 0. 0. 0. 0.]\n",
      " [0. 0. 0. 0. 0. 1. 0.]\n",
      " [0. 0. 0. 0. 0. 0. 1.]\n",
      " [0. 0. 0. 0. 1. 0. 0.]]\n"
     ]
    }
   ],
   "source": [
    "encoded_sent = encoder.transform(np.array(\"I love fun NLP\".split()).reshape(-1,1))\n",
    "print(f\"\\n새로운 문장: {sent}\")\n",
    "print(encoded)"
   ]
  },
  {
   "cell_type": "code",
   "execution_count": 15,
   "id": "21c41742-5c83-4910-a700-3ed3c1a71cac",
   "metadata": {},
   "outputs": [
    {
     "name": "stdout",
     "output_type": "stream",
     "text": [
      "\n",
      "문장: I love NLP\n",
      "원-핫 인코딩 행렬 형태: <class 'scipy.sparse._csr.csr_matrix'>\n",
      "희소행렬 크기: (3, 7)\n",
      "  (0, 0)\t1.0\n",
      "  (1, 5)\t1.0\n",
      "  (2, 1)\t1.0\n",
      "\n",
      "문장: NLP is fun\n",
      "원-핫 인코딩 행렬 형태: <class 'scipy.sparse._csr.csr_matrix'>\n",
      "희소행렬 크기: (3, 7)\n",
      "  (0, 1)\t1.0\n",
      "  (1, 3)\t1.0\n",
      "  (2, 2)\t1.0\n",
      "\n",
      "문장: I love machine learning\n",
      "원-핫 인코딩 행렬 형태: <class 'scipy.sparse._csr.csr_matrix'>\n",
      "희소행렬 크기: (4, 7)\n",
      "  (0, 0)\t1.0\n",
      "  (1, 5)\t1.0\n",
      "  (2, 6)\t1.0\n",
      "  (3, 4)\t1.0\n"
     ]
    }
   ],
   "source": [
    "#원-핫 인코더 - 기본 값: 희소행렬\n",
    "encoder2 = OneHotEncoder()\n",
    "encoder2.fit(np.array(word_list).reshape(-1,1))\n",
    "\n",
    "for sent in corpus:\n",
    "    X_sparse = encoder2.transform(np.array(sent.split()).reshape(-1,1))\n",
    "\n",
    "    print(f\"\\n문장: {sent}\")\n",
    "    print(\"원-핫 인코딩 행렬 형태:\", type(X_sparse))\n",
    "    print(\"희소행렬 크기:\", X_sparse.shape)\n",
    "    print(X_sparse)"
   ]
  },
  {
   "cell_type": "code",
   "execution_count": 23,
   "id": "8b910765-3891-43ec-92bd-ac541130e86b",
   "metadata": {},
   "outputs": [],
   "source": [
    "corpus = [\n",
    "    \"I love NLP\",\n",
    "    \"NLP is fun\",\n",
    "    \"I love NLP, Ypu love NLP! \"\n",
    "]"
   ]
  },
  {
   "cell_type": "code",
   "execution_count": 24,
   "id": "124346cb-7eba-45a6-9354-c91020320bb5",
   "metadata": {},
   "outputs": [],
   "source": [
    "from sklearn.feature_extraction.text import CountVectorizer"
   ]
  },
  {
   "cell_type": "code",
   "execution_count": 25,
   "id": "3463f335-9009-4ac3-b94e-eb89227f2687",
   "metadata": {},
   "outputs": [],
   "source": [
    "#CountVector 객체 생성\n",
    "vectorizer = CountVectorizer()"
   ]
  },
  {
   "cell_type": "code",
   "execution_count": 27,
   "id": "bbbe8fda-d566-431e-ad39-d870ca31bb13",
   "metadata": {},
   "outputs": [],
   "source": [
    "#CountVector 설정 및 수행\n",
    "X_bow = vectorizer.fit_transform(corpus)"
   ]
  },
  {
   "cell_type": "code",
   "execution_count": 28,
   "id": "60c55b5e-fdf1-4893-9093-8b677378a7a6",
   "metadata": {},
   "outputs": [
    {
     "name": "stdout",
     "output_type": "stream",
     "text": [
      "Bow Vocabulary: {'love': 2, 'nlp': 3, 'is': 1, 'fun': 0, 'ypu': 4}\n",
      "Bow Representation:\n",
      " [[0 0 1 1 0]\n",
      " [1 1 0 1 0]\n",
      " [0 0 2 2 1]]\n"
     ]
    }
   ],
   "source": [
    "print(\"Bow Vocabulary:\", vectorizer.vocabulary_)\n",
    "print(\"Bow Representation:\\n\", X_bow.toarray())"
   ]
  },
  {
   "cell_type": "code",
   "execution_count": 30,
   "id": "341a845a-7c6b-4b59-afee-eb4d77c0fe75",
   "metadata": {},
   "outputs": [],
   "source": [
    "#TF-IDF (tfidf Vector)\n",
    "from sklearn.feature_extraction.text import TfidfVectorizer"
   ]
  },
  {
   "cell_type": "code",
   "execution_count": 31,
   "id": "fb3777f0-60e9-441d-b8ad-0f7de842e34e",
   "metadata": {},
   "outputs": [],
   "source": [
    "tfidf = TfidfVectorizer()\n",
    "X_tfidf = tfidf.fit_transform(corpus)"
   ]
  },
  {
   "cell_type": "code",
   "execution_count": 32,
   "id": "fdeb1138-85db-414c-b676-801e18b87e8e",
   "metadata": {},
   "outputs": [
    {
     "name": "stdout",
     "output_type": "stream",
     "text": [
      "TF-IDF Vocabulary: {'love': 2, 'nlp': 3, 'is': 1, 'fun': 0, 'ypu': 4}\n",
      "TF-IDF Representation:\n",
      " [[0.         0.         0.78980693 0.61335554 0.        ]\n",
      " [0.65249088 0.65249088 0.         0.38537163 0.        ]\n",
      " [0.         0.         0.70094487 0.54434622 0.46082913]]\n"
     ]
    }
   ],
   "source": [
    "print(\"TF-IDF Vocabulary:\", tfidf.vocabulary_)\n",
    "print(\"TF-IDF Representation:\\n\", X_tfidf.toarray())"
   ]
  },
  {
   "cell_type": "code",
   "execution_count": null,
   "id": "b7e372dd-881f-4f6c-9d16-416d23f1ec7e",
   "metadata": {},
   "outputs": [],
   "source": []
  }
 ],
 "metadata": {
  "kernelspec": {
   "display_name": "NLP\n(NLP_Lec_env)",
   "language": "python",
   "name": "nlp_lec_env"
  },
  "language_info": {
   "codemirror_mode": {
    "name": "ipython",
    "version": 3
   },
   "file_extension": ".py",
   "mimetype": "text/x-python",
   "name": "python",
   "nbconvert_exporter": "python",
   "pygments_lexer": "ipython3",
   "version": "3.9.23"
  }
 },
 "nbformat": 4,
 "nbformat_minor": 5
}
