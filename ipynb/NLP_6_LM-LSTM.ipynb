{
 "cells": [
  {
   "cell_type": "code",
   "execution_count": 1,
   "id": "9a3b30c1-98a2-4da9-828b-60a1c5462999",
   "metadata": {},
   "outputs": [],
   "source": [
    "import torch\n",
    "import torch.nn as nn"
   ]
  },
  {
   "cell_type": "code",
   "execution_count": 2,
   "id": "eb69ec59-c2e7-426c-a1f8-4c826ae91d5a",
   "metadata": {},
   "outputs": [],
   "source": [
    "# 입력 (3단어 시퀀스, 임베딩 차원 = 4)\n",
    "x3 = torch.randn(3,1,4) #(seq_len, batch_size, input_size)"
   ]
  },
  {
   "cell_type": "code",
   "execution_count": 4,
   "id": "2ceaf551-404d-48ce-9b54-4d2b7be5dff8",
   "metadata": {},
   "outputs": [],
   "source": [
    "# RNN\n",
    "rnn = nn.RNN(input_size=4, hidden_size=8, num_layers=1)\n",
    "output3, hidden3 = rnn(x3)"
   ]
  },
  {
   "cell_type": "code",
   "execution_count": 5,
   "id": "3ebaeb99-f670-471e-a70c-18ebf02bf8dd",
   "metadata": {},
   "outputs": [
    {
     "name": "stdout",
     "output_type": "stream",
     "text": [
      "Output shape: torch.Size([3, 1, 8])\n",
      "Hidden shape: torch.Size([1, 1, 8])\n"
     ]
    }
   ],
   "source": [
    "print(\"Output shape:\", output3.shape) # 각 시점의 은닉 상태\n",
    "print(\"Hidden shape:\", hidden3.shape) # 마지막 시점의 은닉 상태"
   ]
  },
  {
   "cell_type": "code",
   "execution_count": 6,
   "id": "4108afe4-41b8-4b56-a6fb-7229f8695dec",
   "metadata": {},
   "outputs": [
    {
     "data": {
      "text/plain": [
       "3"
      ]
     },
     "execution_count": 6,
     "metadata": {},
     "output_type": "execute_result"
    }
   ],
   "source": [
    "len(output3)"
   ]
  },
  {
   "cell_type": "code",
   "execution_count": 7,
   "id": "a174d394-88d3-41cb-8bfd-21d36214a4c5",
   "metadata": {},
   "outputs": [
    {
     "name": "stdout",
     "output_type": "stream",
     "text": [
      "tensor([[-0.1107,  0.3089,  0.3718, -0.3137,  0.3310,  0.2441, -0.1495, -0.6145]],\n",
      "       grad_fn=<SelectBackward0>)\n"
     ]
    }
   ],
   "source": [
    "print(output3[0])"
   ]
  },
  {
   "cell_type": "code",
   "execution_count": 8,
   "id": "9005c2dd-b416-4896-812e-502110e1b207",
   "metadata": {},
   "outputs": [
    {
     "name": "stdout",
     "output_type": "stream",
     "text": [
      "tensor([[-0.4009,  0.8071, -0.1728,  0.0732, -0.6253,  0.4546, -0.0564, -0.5961]],\n",
      "       grad_fn=<SelectBackward0>)\n"
     ]
    }
   ],
   "source": [
    "print(output3[1])"
   ]
  },
  {
   "cell_type": "code",
   "execution_count": 9,
   "id": "45d00cd0-023b-46e4-bdc8-41a22e8e99e6",
   "metadata": {},
   "outputs": [
    {
     "name": "stdout",
     "output_type": "stream",
     "text": [
      "tensor([[-0.1552,  0.4137, -0.1165, -0.3998, -0.1453,  0.6767, -0.1031, -0.5053]],\n",
      "       grad_fn=<SelectBackward0>)\n"
     ]
    }
   ],
   "source": [
    "print(output3[2])"
   ]
  },
  {
   "cell_type": "code",
   "execution_count": 11,
   "id": "4dca096d-5c70-47b2-a24d-e98877f8f9bd",
   "metadata": {},
   "outputs": [
    {
     "name": "stdout",
     "output_type": "stream",
     "text": [
      "tensor([[-0.1552,  0.4137, -0.1165, -0.3998, -0.1453,  0.6767, -0.1031, -0.5053]],\n",
      "       grad_fn=<SelectBackward0>)\n"
     ]
    }
   ],
   "source": [
    "print(hidden3[0])"
   ]
  },
  {
   "cell_type": "code",
   "execution_count": 12,
   "id": "3826762b-aacd-41e1-b698-8f756e0dfbd5",
   "metadata": {},
   "outputs": [],
   "source": [
    "import torch \n",
    "import torch.nn as nn"
   ]
  },
  {
   "cell_type": "code",
   "execution_count": 13,
   "id": "4b72c359-f483-4df4-bca1-12ff259a6e70",
   "metadata": {},
   "outputs": [],
   "source": [
    "# 입력 시퀀스: batch=1, seq_len=3, input_dim=4\n",
    "x = torch.randn(3,1,4)"
   ]
  },
  {
   "cell_type": "code",
   "execution_count": 14,
   "id": "52160b3e-6e14-4c53-8b9f-1cdba3604bfe",
   "metadata": {},
   "outputs": [],
   "source": [
    "#LSTM"
   ]
  },
  {
   "cell_type": "code",
   "execution_count": 15,
   "id": "384c8384-354e-45df-afc3-11d519f9c9e4",
   "metadata": {},
   "outputs": [],
   "source": [
    "lstm = nn.LSTM(input_size=4, hidden_size=8)\n",
    "output, (h_n, c_n) = lstm(x)"
   ]
  },
  {
   "cell_type": "code",
   "execution_count": 17,
   "id": "25df88eb-77e1-49cd-9557-fdbea8e7e0f4",
   "metadata": {},
   "outputs": [
    {
     "name": "stdout",
     "output_type": "stream",
     "text": [
      "Output shape: torch.Size([3, 1, 8])\n",
      "Hidden state: torch.Size([1, 1, 8])\n",
      "Cell state: torch.Size([1, 1, 8])\n"
     ]
    }
   ],
   "source": [
    "print(\"Output shape:\", output.shape)\n",
    "print(\"Hidden state:\", h_n.shape) \n",
    "print(\"Cell state:\", c_n.shape)"
   ]
  },
  {
   "cell_type": "markdown",
   "id": "b52f42fe-00d0-4373-b253-3506cde73d47",
   "metadata": {},
   "source": [
    "### --- 작업 결과 확인용 출력"
   ]
  },
  {
   "cell_type": "code",
   "execution_count": 18,
   "id": "cce5c5c1-1d0b-46db-a800-647b3f308ed5",
   "metadata": {},
   "outputs": [
    {
     "data": {
      "text/plain": [
       "3"
      ]
     },
     "execution_count": 18,
     "metadata": {},
     "output_type": "execute_result"
    }
   ],
   "source": [
    "len(output)"
   ]
  },
  {
   "cell_type": "code",
   "execution_count": 20,
   "id": "42158b0c-23cc-4c17-b628-b8c5838dd7f9",
   "metadata": {},
   "outputs": [
    {
     "name": "stdout",
     "output_type": "stream",
     "text": [
      "tensor([[-0.1107,  0.3089,  0.3718, -0.3137,  0.3310,  0.2441, -0.1495, -0.6145]],\n",
      "       grad_fn=<SelectBackward0>)\n"
     ]
    }
   ],
   "source": [
    "print(output3[0])"
   ]
  },
  {
   "cell_type": "code",
   "execution_count": 21,
   "id": "eed48e97-34d4-45c3-8400-752d0b4a1ced",
   "metadata": {},
   "outputs": [
    {
     "name": "stdout",
     "output_type": "stream",
     "text": [
      "tensor([[-0.4009,  0.8071, -0.1728,  0.0732, -0.6253,  0.4546, -0.0564, -0.5961]],\n",
      "       grad_fn=<SelectBackward0>)\n"
     ]
    }
   ],
   "source": [
    "print(output3[1])"
   ]
  },
  {
   "cell_type": "code",
   "execution_count": 22,
   "id": "8fecc6c5-012b-42e2-b637-458ea9e6fdc3",
   "metadata": {},
   "outputs": [
    {
     "name": "stdout",
     "output_type": "stream",
     "text": [
      "tensor([[-0.1552,  0.4137, -0.1165, -0.3998, -0.1453,  0.6767, -0.1031, -0.5053]],\n",
      "       grad_fn=<SelectBackward0>)\n"
     ]
    }
   ],
   "source": [
    "print(output3[2])"
   ]
  },
  {
   "cell_type": "code",
   "execution_count": 23,
   "id": "0be8a71f-cbde-4424-9386-5d45d3f7415b",
   "metadata": {},
   "outputs": [
    {
     "name": "stdout",
     "output_type": "stream",
     "text": [
      "tensor([[ 1.2367e-01, -1.2442e-01, -1.2336e-02, -2.5259e-05, -7.1959e-02,\n",
      "          1.7293e-01, -5.5002e-02,  8.8754e-02]], grad_fn=<SelectBackward0>)\n"
     ]
    }
   ],
   "source": [
    "print(h_n[0])"
   ]
  },
  {
   "cell_type": "markdown",
   "id": "13684d31-f5d3-4163-9523-59847ee9701e",
   "metadata": {},
   "source": [
    "# LSTM 기반 LM을 이용한 문장 생성"
   ]
  },
  {
   "cell_type": "code",
   "execution_count": 24,
   "id": "73d85d1b-67c5-453b-9c39-655e772732fd",
   "metadata": {},
   "outputs": [],
   "source": [
    "import torch\n",
    "import torch.nn as nn\n",
    "import torch.optim as optim"
   ]
  },
  {
   "cell_type": "markdown",
   "id": "79f5812e-25da-447e-a2a5-187d78d00d7f",
   "metadata": {},
   "source": [
    "(1) 문장을 토큰화한 데이터"
   ]
  },
  {
   "cell_type": "code",
   "execution_count": 26,
   "id": "cabaefb3-89bb-4a05-9733-50335166c13b",
   "metadata": {},
   "outputs": [],
   "source": [
    "#데이터\n",
    "sentences = [\n",
    "    ['we','like','nlp'],\n",
    "    ['nlp','is','fun'],\n",
    "    ['i','love','nlp'],\n",
    "    ['you','like','ai']\n",
    "]"
   ]
  },
  {
   "cell_type": "markdown",
   "id": "204ba68b-a96f-44a7-b24a-a518f55c7a7d",
   "metadata": {},
   "source": [
    "(2) 단어 인덱싱"
   ]
  },
  {
   "cell_type": "code",
   "execution_count": 27,
   "id": "74abb074-29f6-4d39-a70b-dc5275f4a354",
   "metadata": {},
   "outputs": [],
   "source": [
    "vocab = list(set(sum(sentences,[])))\n",
    "word2idx = {w: i for i, w in enumerate(vocab)}\n",
    "idx2word = {i: w for w,i in word2idx.items()}"
   ]
  },
  {
   "cell_type": "markdown",
   "id": "9a46dbf3-01c5-4753-8619-8b78c38d2f0e",
   "metadata": {},
   "source": [
    "(3) dataset을 입력X와 정답Y 시쿼스 나누기"
   ]
  },
  {
   "cell_type": "code",
   "execution_count": 28,
   "id": "c43bccd7-c1b8-4b3b-b8ac-bf0e3c72dfbf",
   "metadata": {},
   "outputs": [],
   "source": [
    "def make_sequence(sent):\n",
    "    input_seq = [word2idx[w] for w in sent[:-1]]\n",
    "    target_seq = [word2idx[w] for w in sent[1:]]\n",
    "    return torch.tensor(input_seq), torch.tensor(target_seq)"
   ]
  },
  {
   "cell_type": "code",
   "execution_count": 29,
   "id": "0bbfbbf6-10b9-4e3e-9abb-0e5f11ebe7c0",
   "metadata": {},
   "outputs": [],
   "source": [
    "X, Y = zip(*[make_sequence(s) for s in sentences])"
   ]
  },
  {
   "cell_type": "markdown",
   "id": "4806455e-5c4c-4f8e-9ba3-2ee748473820",
   "metadata": {},
   "source": [
    "(4) LM-LSTM 모델 정의"
   ]
  },
  {
   "cell_type": "code",
   "execution_count": 38,
   "id": "7c5bc568-e087-49ad-a1ea-f93657b964be",
   "metadata": {},
   "outputs": [],
   "source": [
    "class LSTMModel(nn.Module):\n",
    "    def __init__(self, vocab_size, emb_size, hidden_size):\n",
    "        super().__init__()\n",
    "        self.emb = nn.Embedding(vocab_size, emb_size)\n",
    "        self.lstm = nn.LSTM(emb_size, hidden_size, batch_first=True)\n",
    "        self.fc = nn.Linear(hidden_size, vocab_size)\n",
    "\n",
    "    def forward(self, x):\n",
    "        x = self.emb(x)\n",
    "        out, _ = self.lstm(x)\n",
    "        out = self.fc(out)\n",
    "        return out"
   ]
  },
  {
   "cell_type": "markdown",
   "id": "f9f51e60-2c93-4bd2-91d4-80d4e9f9f454",
   "metadata": {},
   "source": [
    "(5) 모델 객체 생성, 최적화 모델 설정"
   ]
  },
  {
   "cell_type": "code",
   "execution_count": 43,
   "id": "a64c44c4-3f41-4513-9c31-bcab684a6ca1",
   "metadata": {},
   "outputs": [],
   "source": [
    "model = LSTMModel(len(vocab), 10, 16)\n",
    "criterion = nn.CrossEntropyLoss()\n",
    "optimizer = optim.Adam(model.parameters(), lr=0.01)"
   ]
  },
  {
   "cell_type": "markdown",
   "id": "e0cf64a5-4ecd-4ad0-a71b-7750da30be29",
   "metadata": {},
   "source": [
    "(6) 모델 학습 수행"
   ]
  },
  {
   "cell_type": "code",
   "execution_count": 44,
   "id": "9c083d89-361b-4834-9e2e-80ce7a073806",
   "metadata": {},
   "outputs": [
    {
     "name": "stdout",
     "output_type": "stream",
     "text": [
      "Epoch 0, Loss: 8.8633\n",
      "Epoch 50, Loss: 0.0427\n",
      "Epoch 100, Loss: 0.0144\n",
      "Epoch 150, Loss: 0.0077\n",
      "Epoch 200, Loss: 0.0049\n",
      "Epoch 250, Loss: 0.0034\n",
      "Epoch 300, Loss: 0.0025\n",
      "Epoch 350, Loss: 0.0019\n",
      "Epoch 400, Loss: 0.0015\n",
      "Epoch 450, Loss: 0.0012\n",
      "Epoch 500, Loss: 0.0010\n",
      "Epoch 550, Loss: 0.0008\n",
      "Epoch 600, Loss: 0.0007\n",
      "Epoch 650, Loss: 0.0006\n",
      "Epoch 700, Loss: 0.0005\n",
      "Epoch 750, Loss: 0.0004\n",
      "Epoch 800, Loss: 0.0004\n",
      "Epoch 850, Loss: 0.0003\n",
      "Epoch 900, Loss: 0.0003\n",
      "Epoch 950, Loss: 0.0003\n"
     ]
    }
   ],
   "source": [
    "for epoch in range(1000):\n",
    "    total_loss = 0\n",
    "    for x, y in zip(X,Y):\n",
    "        optimizer.zero_grad()\n",
    "        output = model(x.unsqueeze(0))\n",
    "        loss = criterion(output.squeeze(0), y)\n",
    "        loss.backward()\n",
    "        optimizer.step()\n",
    "        total_loss += loss.item()\n",
    "    if epoch % 50 == 0:\n",
    "        print(f\"Epoch {epoch}, Loss: {total_loss:.4f}\")"
   ]
  },
  {
   "cell_type": "markdown",
   "id": "e7ff994d-0dea-42c4-970d-6ff3a2c72a4f",
   "metadata": {},
   "source": [
    "(7) 문장 생성"
   ]
  },
  {
   "cell_type": "code",
   "execution_count": 46,
   "id": "fe1dd178-926f-4678-ac4d-2fb46e4336af",
   "metadata": {},
   "outputs": [],
   "source": [
    "# 문장 생성 작업 초기화ㅣ 시작 단어 'i'\n",
    "start = torch.tensor([[word2idx['i']]])\n",
    "generated = ['i']\n",
    "hidden = None"
   ]
  },
  {
   "cell_type": "code",
   "execution_count": 47,
   "id": "29f85201-6870-4a8d-8724-fb6b8965ef73",
   "metadata": {},
   "outputs": [],
   "source": [
    "# 다음 단어 예측 5회 반복 작업을 통해 문장 생성하기\n",
    "for _ in range(5):\n",
    "    output = model(start)\n",
    "    next_word = idx2word[output.argmax(2)[:,-1].item()]\n",
    "    generated.append(next_word)\n",
    "    start = torch.tensor([[word2idx[next_word]]])"
   ]
  },
  {
   "cell_type": "code",
   "execution_count": 49,
   "id": "ffd49c94-347d-468d-a1e5-eb38c2c24857",
   "metadata": {},
   "outputs": [
    {
     "name": "stdout",
     "output_type": "stream",
     "text": [
      "Generated: i love is fun like ai\n"
     ]
    }
   ],
   "source": [
    "# 결과 출력\n",
    "print(\"Generated:\", ' '.join(generated))"
   ]
  },
  {
   "cell_type": "code",
   "execution_count": null,
   "id": "745deeb3-a8bd-46fb-9c28-16db251ece33",
   "metadata": {},
   "outputs": [],
   "source": []
  }
 ],
 "metadata": {
  "kernelspec": {
   "display_name": "NLP\n(NLP_Lec_env)",
   "language": "python",
   "name": "nlp_lec_env"
  },
  "language_info": {
   "codemirror_mode": {
    "name": "ipython",
    "version": 3
   },
   "file_extension": ".py",
   "mimetype": "text/x-python",
   "name": "python",
   "nbconvert_exporter": "python",
   "pygments_lexer": "ipython3",
   "version": "3.9.23"
  }
 },
 "nbformat": 4,
 "nbformat_minor": 5
}
